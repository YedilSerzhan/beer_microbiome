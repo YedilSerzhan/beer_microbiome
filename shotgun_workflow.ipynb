{
 "cells": [
  {
   "cell_type": "code",
   "execution_count": 19,
   "id": "5d8195d7",
   "metadata": {},
   "outputs": [],
   "source": [
    "from bioblend.galaxy import GalaxyInstance\n",
    "from bioblend.galaxy import dataset_collections\n",
    "import os\n",
    "import json\n",
    "import time"
   ]
  },
  {
   "cell_type": "code",
   "execution_count": 2,
   "id": "0c3dce25",
   "metadata": {},
   "outputs": [
    {
     "name": "stdout",
     "output_type": "stream",
     "text": [
      "GalaxyInstance object for Galaxy at https://usegalaxy.eu/\n"
     ]
    }
   ],
   "source": [
    "server = 'https://usegalaxy.eu/'\n",
    "api_key = os.environ['my_galaxy_api']\n",
    "gi = GalaxyInstance(server, key=api_key)\n",
    "\n",
    "print(gi)"
   ]
  },
  {
   "cell_type": "code",
   "execution_count": 3,
   "id": "5fcff38c",
   "metadata": {},
   "outputs": [
    {
     "data": {
      "text/plain": [
       "[{'model_class': 'History',\n",
       "  'id': 'ee9cf18ea49d2fb1',\n",
       "  'name': 'qiime2 test',\n",
       "  'deleted': False,\n",
       "  'purged': False,\n",
       "  'url': '/api/histories/ee9cf18ea49d2fb1',\n",
       "  'published': False,\n",
       "  'annotation': None,\n",
       "  'tags': [],\n",
       "  'update_time': '2023-01-30T19:11:02.169097'},\n",
       " {'model_class': 'History',\n",
       "  'id': 'ecfc8c06ceae22af',\n",
       "  'name': 'shotgun paired test run',\n",
       "  'deleted': False,\n",
       "  'purged': False,\n",
       "  'url': '/api/histories/ecfc8c06ceae22af',\n",
       "  'published': False,\n",
       "  'annotation': None,\n",
       "  'tags': [],\n",
       "  'update_time': '2023-01-24T17:43:51.334962'}]"
      ]
     },
     "execution_count": 3,
     "metadata": {},
     "output_type": "execute_result"
    }
   ],
   "source": [
    "gi.histories.get_histories()"
   ]
  },
  {
   "cell_type": "code",
   "execution_count": 4,
   "id": "e07c8910",
   "metadata": {},
   "outputs": [
    {
     "data": {
      "text/plain": [
       "{'misc_info': 'uploaded fastqsanger.gz file',\n",
       " 'dataset_id': '4838ba20a6d86765ddf2b5f3ee9cd961',\n",
       " 'file_size': 4288747228,\n",
       " 'id': '4838ba20a6d86765e865eafb64b12ee6',\n",
       " 'uuid': '46e5d9bb-9e6e-45eb-a425-5110a06cc53e',\n",
       " 'display_apps': [],\n",
       " 'data_type': 'abc.FastqSangerGz',\n",
       " 'type': 'file',\n",
       " 'permissions': {'manage': ['a31b3c57dee55ce4'],\n",
       "  'access': ['a31b3c57dee55ce4']},\n",
       " 'peek': '@SRR14143424.1 1/1\\nCGTCACTGTGGAAGAAAGAATATTGTTGACGCCTCTCTGAAGCCCTGTCATAACAGAATCCAGCATTTTCTGAGGCTCTATCTCAAGGGAGTTCGCCCACTCGGAAATAGCAGAATCCTGTTTGAA\\n+\\nAA<AFJJJJJJJJJJJJJJJJFJJJJJFJJJJJ<JJFJJJJ7F7FFFAFJJJJFJFJJF7FJF<AF7AF<FJJJAA<FJJJFJJJJJJJFJ-A<JFJFJJJJJJ<JJJJJJJJJJJJFJJAJFJJJ\\n@SRR14143424.2 2/1\\n',\n",
       " 'extension': 'fastqsanger.gz',\n",
       " 'visible': False,\n",
       " 'deleted': False,\n",
       " 'misc_blurb': '4.0 GB',\n",
       " 'rerunnable': False,\n",
       " 'sources': [{'model_class': 'DatasetSource',\n",
       "   'id': 905842,\n",
       "   'source_uri': 'ftp://ftp.sra.ebi.ac.uk/vol1/fastq/SRR141/024/SRR14143424/SRR14143424_1.fastq.gz',\n",
       "   'extra_files_path': None,\n",
       "   'transform': None}],\n",
       " 'history_content_type': 'dataset',\n",
       " 'url': '/api/histories/ecfc8c06ceae22af/contents/4838ba20a6d86765e865eafb64b12ee6',\n",
       " 'state': 'ok',\n",
       " 'validated_state_message': None,\n",
       " 'creating_job': '11ac94870d0bb33acab20574e1ee482c',\n",
       " 'copied_from_ldda_id': None,\n",
       " 'genome_build': '?',\n",
       " 'validated_state': 'unknown',\n",
       " 'tags': [],\n",
       " 'resubmitted': False,\n",
       " 'hashes': [],\n",
       " 'meta_files': [],\n",
       " 'type_id': 'dataset-4838ba20a6d86765e865eafb64b12ee6',\n",
       " 'file_ext': 'fastqsanger.gz',\n",
       " 'accessible': True,\n",
       " 'purged': False,\n",
       " 'model_class': 'HistoryDatasetAssociation',\n",
       " 'file_name': '/data/dnb07/galaxy_db/files/4/6/e/dataset_46e5d9bb-9e6e-45eb-a425-5110a06cc53e.dat',\n",
       " 'hda_ldda': 'hda',\n",
       " 'update_time': '2023-01-24T16:13:45.179968',\n",
       " 'hid': 1,\n",
       " 'download_url': '/api/histories/ecfc8c06ceae22af/contents/4838ba20a6d86765e865eafb64b12ee6/display',\n",
       " 'history_id': 'ecfc8c06ceae22af',\n",
       " 'api_type': 'file',\n",
       " 'name': 'sample1_1.fastq.gz',\n",
       " 'annotation': None,\n",
       " 'create_time': '2023-01-24T15:10:02.887598',\n",
       " 'created_from_basename': None,\n",
       " 'display_types': [],\n",
       " 'metadata_dbkey': '?'}"
      ]
     },
     "execution_count": 4,
     "metadata": {},
     "output_type": "execute_result"
    }
   ],
   "source": [
    "# gi.histories.show_history('ecfc8c06ceae22af', contents=False)\n",
    "gi.datasets.show_dataset('4838ba20a6d86765e865eafb64b12ee6')"
   ]
  },
  {
   "cell_type": "code",
   "execution_count": null,
   "id": "76aa5e0b",
   "metadata": {},
   "outputs": [],
   "source": []
  },
  {
   "cell_type": "code",
   "execution_count": 5,
   "id": "793729c6",
   "metadata": {},
   "outputs": [],
   "source": [
    "# upload file locally\n",
    "# gi.tools.upload_file('test.txt', 'f3c2b0f3ecac9f02')\n",
    "\n",
    "# upload file using FTP when it's over 2 G\n",
    "# gi.tools.upload_from_ftp('test.txt', 'f3c2b0f3ecac9f02')"
   ]
  },
  {
   "cell_type": "code",
   "execution_count": 6,
   "id": "13b991e2",
   "metadata": {},
   "outputs": [
    {
     "data": {
      "text/plain": [
       "[{'model_class': 'StoredWorkflow',\n",
       "  'id': 'dde25e07f2db3f7c',\n",
       "  'name': 'shotgun workflow for a collection of paired inputs',\n",
       "  'create_time': '2023-01-09T22:04:20.055180',\n",
       "  'update_time': '2023-01-25T11:58:00.102993',\n",
       "  'published': False,\n",
       "  'importable': True,\n",
       "  'deleted': False,\n",
       "  'hidden': False,\n",
       "  'tags': [],\n",
       "  'latest_workflow_uuid': 'ca9938ac-491c-4bb1-952a-9ed020c63b58',\n",
       "  'annotations': [''],\n",
       "  'url': '/api/workflows/dde25e07f2db3f7c',\n",
       "  'owner': 'yedil_s',\n",
       "  'source_metadata': None,\n",
       "  'number_of_steps': 11,\n",
       "  'show_in_tool_panel': False},\n",
       " {'model_class': 'StoredWorkflow',\n",
       "  'id': '92c6435c8c34b776',\n",
       "  'name': 'shotgun workflow for a collection of single ended inputs',\n",
       "  'create_time': '2023-01-22T14:22:15.635209',\n",
       "  'update_time': '2023-01-25T11:56:03.806581',\n",
       "  'published': False,\n",
       "  'importable': True,\n",
       "  'deleted': False,\n",
       "  'hidden': False,\n",
       "  'tags': [],\n",
       "  'latest_workflow_uuid': '3dd4c22f-2fe6-4903-8067-03ccc969b338',\n",
       "  'annotations': [''],\n",
       "  'url': '/api/workflows/92c6435c8c34b776',\n",
       "  'owner': 'yedil_s',\n",
       "  'source_metadata': None,\n",
       "  'number_of_steps': 11,\n",
       "  'show_in_tool_panel': False}]"
      ]
     },
     "execution_count": 6,
     "metadata": {},
     "output_type": "execute_result"
    }
   ],
   "source": [
    "gi.workflows.get_workflows()"
   ]
  },
  {
   "cell_type": "code",
   "execution_count": 7,
   "id": "d3ba3bd1",
   "metadata": {},
   "outputs": [
    {
     "data": {
      "text/plain": [
       "{'0': {'label': 'Input Dataset Collection',\n",
       "  'value': '',\n",
       "  'uuid': 'f799a228-043d-4606-8df7-48cf04b37231'}}"
      ]
     },
     "execution_count": 7,
     "metadata": {},
     "output_type": "execute_result"
    }
   ],
   "source": [
    "wf_shotgun_paired = gi.workflows.show_workflow('dde25e07f2db3f7c')\n",
    "wf_shotgun_paired['inputs']"
   ]
  },
  {
   "cell_type": "code",
   "execution_count": 8,
   "id": "e08fe3c9",
   "metadata": {},
   "outputs": [],
   "source": [
    "def get_project_to_history_id_info():\n",
    "    with open('projects.json', 'r') as f:\n",
    "        data = json.load(f)\n",
    "    return data\n",
    "\n",
    "def update_project_to_history_id_info(payload):\n",
    "    with open('projects.json','r+') as f:\n",
    "        file_data = json.load(f)\n",
    "        file_data.update(payload)\n",
    "        f.seek(0)\n",
    "        json.dump(file_data, f, indent = 4)\n",
    "\n",
    "def upload_dataset(gi, dataset_links, history_id):\n",
    "    r = gi.tools.put_url(\n",
    "        content=dataset_links,\n",
    "        history_id=history_id,\n",
    "    )\n",
    "    print(r)\n",
    "    return r['outputs']\n",
    "\n",
    "def shotgun_main(gi, dataset):\n",
    "    projects = get_project_to_history_id_info()\n",
    "    for project_id, dataset_link_list in dataset.items():\n",
    "        \n",
    "        print(f'creating new history for {project_id}')\n",
    "        history_id = gi.histories.create_history(project_id)['id']\n",
    "        print(f'new history with id {history_id} created for {project_id}')\n",
    "\n",
    "        update_project_to_history_id_info({project_id: history_id})\n",
    "        \n",
    "        print(f'uploading datasets to {project_id}')\n",
    "        dataset_links = '\\n'.join(dataset_link_list)\n",
    "        upload_result = upload_dataset(gi, dataset_links, history_id)\n",
    "        \n",
    "        cnt = 1\n",
    "        while True:\n",
    "            state_ids = gi.histories.show_history(history_id, contents=False)['state_ids']\n",
    "            if len(state_ids['ok']) == len(dataset_link_list):\n",
    "                print(f'uploading datasets to {project_id} successful')\n",
    "                break\n",
    "            else:\n",
    "                print(f'waitting for the dataset to be available {cnt}')\n",
    "                cnt = cnt + 1\n",
    "                time.sleep(60)"
   ]
  },
  {
   "cell_type": "code",
   "execution_count": 9,
   "id": "8a449b67",
   "metadata": {
    "scrolled": false
   },
   "outputs": [
    {
     "name": "stdout",
     "output_type": "stream",
     "text": [
      "creating new history for PRJNA390460\n",
      "new history with id d786d448a802ae4b created for PRJNA390460\n",
      "uploading datasets to PRJNA390460\n",
      "{'outputs': [{'id': '4838ba20a6d867655f39fcd3cfc9f5ca', 'hda_ldda': 'hda', 'uuid': 'c2e38a2a-3992-4687-9992-366908276a19', 'hid': 1, 'file_ext': 'auto', 'peek': None, 'model_class': 'HistoryDatasetAssociation', 'name': 'ftp://ftp.sra.ebi.ac.uk/vol1/fastq/SRR589/003/SRR5890763/SRR5890763_1.fastq.gz', 'deleted': False, 'purged': False, 'visible': True, 'state': 'queued', 'history_content_type': 'dataset', 'file_size': 0, 'create_time': '2023-01-31T22:25:45.232410', 'update_time': '2023-01-31T22:25:45.249103', 'data_type': 'galaxy.datatypes.data.Data', 'genome_build': '?', 'validated_state': 'unknown', 'validated_state_message': None, 'misc_info': None, 'misc_blurb': None, 'tags': [], 'history_id': 'd786d448a802ae4b', 'metadata_dbkey': '?', 'output_name': 'output0'}, {'id': '4838ba20a6d86765eeb232dc71866fdd', 'hda_ldda': 'hda', 'uuid': '55e1fd88-658a-4ac6-8808-8b2d227a6892', 'hid': 2, 'file_ext': 'auto', 'peek': None, 'model_class': 'HistoryDatasetAssociation', 'name': 'ftp://ftp.sra.ebi.ac.uk/vol1/fastq/SRR589/003/SRR5890763/SRR5890763_2.fastq.gz', 'deleted': False, 'purged': False, 'visible': True, 'state': 'queued', 'history_content_type': 'dataset', 'file_size': 0, 'create_time': '2023-01-31T22:25:45.258940', 'update_time': '2023-01-31T22:25:45.273999', 'data_type': 'galaxy.datatypes.data.Data', 'genome_build': '?', 'validated_state': 'unknown', 'validated_state_message': None, 'misc_info': None, 'misc_blurb': None, 'tags': [], 'history_id': 'd786d448a802ae4b', 'metadata_dbkey': '?', 'output_name': 'output1'}], 'output_collections': [], 'jobs': [{'model_class': 'Job', 'id': '11ac94870d0bb33ace4691e50722c120', 'state': 'new', 'exit_code': None, 'update_time': '2023-01-31T22:25:45.307957', 'create_time': '2023-01-31T22:25:45.296196', 'galaxy_version': '22.05', 'tool_id': 'upload1', 'history_id': 'd786d448a802ae4b'}], 'implicit_collections': [], 'produces_entry_points': False}\n",
      "waitting for the dataset available\n",
      "waitting for the dataset available\n",
      "waitting for the dataset available\n",
      "waitting for the dataset available\n",
      "waitting for the dataset available\n",
      "waitting for the dataset available\n",
      "waitting for the dataset available\n",
      "waitting for the dataset available\n",
      "waitting for the dataset available\n",
      "waitting for the dataset available\n",
      "waitting for the dataset available\n",
      "waitting for the dataset available\n",
      "waitting for the dataset available\n",
      "waitting for the dataset available\n",
      "waitting for the dataset available\n",
      "waitting for the dataset available\n",
      "waitting for the dataset available\n",
      "waitting for the dataset available\n",
      "waitting for the dataset available\n",
      "waitting for the dataset available\n",
      "waitting for the dataset available\n",
      "waitting for the dataset available\n",
      "waitting for the dataset available\n",
      "waitting for the dataset available\n",
      "waitting for the dataset available\n",
      "waitting for the dataset available\n"
     ]
    },
    {
     "ename": "KeyboardInterrupt",
     "evalue": "",
     "output_type": "error",
     "traceback": [
      "\u001b[0;31m---------------------------------------------------------------------------\u001b[0m",
      "\u001b[0;31mKeyboardInterrupt\u001b[0m                         Traceback (most recent call last)",
      "Cell \u001b[0;32mIn [9], line 3\u001b[0m\n\u001b[1;32m      1\u001b[0m dataset \u001b[38;5;241m=\u001b[39m {\u001b[38;5;124m'\u001b[39m\u001b[38;5;124mPRJNA390460\u001b[39m\u001b[38;5;124m'\u001b[39m: [\u001b[38;5;124m'\u001b[39m\u001b[38;5;124mftp://ftp.sra.ebi.ac.uk/vol1/fastq/SRR589/003/SRR5890763/SRR5890763_1.fastq.gz\u001b[39m\u001b[38;5;124m'\u001b[39m, \u001b[38;5;124m'\u001b[39m\u001b[38;5;124mftp://ftp.sra.ebi.ac.uk/vol1/fastq/SRR589/003/SRR5890763/SRR5890763_2.fastq.gz\u001b[39m\u001b[38;5;124m'\u001b[39m]}\n\u001b[0;32m----> 3\u001b[0m \u001b[43mshotgun_main\u001b[49m\u001b[43m(\u001b[49m\u001b[43mgi\u001b[49m\u001b[43m,\u001b[49m\u001b[43m \u001b[49m\u001b[43mdataset\u001b[49m\u001b[43m)\u001b[49m\n",
      "Cell \u001b[0;32mIn [8], line 42\u001b[0m, in \u001b[0;36mshotgun_main\u001b[0;34m(gi, dataset)\u001b[0m\n\u001b[1;32m     40\u001b[0m \u001b[38;5;28;01melse\u001b[39;00m:\n\u001b[1;32m     41\u001b[0m    \u001b[38;5;28mprint\u001b[39m(\u001b[38;5;124m\"\u001b[39m\u001b[38;5;124mwaitting for the dataset available\u001b[39m\u001b[38;5;124m\"\u001b[39m)\n\u001b[0;32m---> 42\u001b[0m    \u001b[43mtime\u001b[49m\u001b[38;5;241;43m.\u001b[39;49m\u001b[43msleep\u001b[49m\u001b[43m(\u001b[49m\u001b[38;5;241;43m60\u001b[39;49m\u001b[43m)\u001b[49m\n",
      "\u001b[0;31mKeyboardInterrupt\u001b[0m: "
     ]
    }
   ],
   "source": [
    "dataset = {'PRJNA390460': ['ftp://ftp.sra.ebi.ac.uk/vol1/fastq/SRR589/003/SRR5890763/SRR5890763_1.fastq.gz', 'ftp://ftp.sra.ebi.ac.uk/vol1/fastq/SRR589/003/SRR5890763/SRR5890763_2.fastq.gz']}\n",
    "\n",
    "shotgun_main(gi, dataset)\n"
   ]
  },
  {
   "cell_type": "code",
   "execution_count": 20,
   "id": "e5d76c4e",
   "metadata": {
    "scrolled": true
   },
   "outputs": [],
   "source": [
    "# gi.histories.show_history('d786d448a802ae4b', contents=False)\n",
    "collection_response = gi.histories.create_dataset_collection(\n",
    "    history_id='d786d448a802ae4b',\n",
    "    collection_description=dataset_collections.CollectionDescription(\n",
    "        name=\"MyListOfPairedDatasets\",\n",
    "        type=\"list:paired\",\n",
    "        elements=[\n",
    "            dataset_collections.CollectionElement(\n",
    "                name=\"sample1\",\n",
    "                type=\"paired\",\n",
    "                elements=[\n",
    "                    dataset_collections.HistoryDatasetElement(name=\"forward\", id='4838ba20a6d867655f39fcd3cfc9f5ca'),\n",
    "                    dataset_collections.HistoryDatasetElement(name=\"reverse\", id='4838ba20a6d86765eeb232dc71866fdd'),\n",
    "                ]\n",
    "            )\n",
    "        ]\n",
    "    )\n",
    ")"
   ]
  }
 ],
 "metadata": {
  "kernelspec": {
   "display_name": "Python 3 (ipykernel)",
   "language": "python",
   "name": "python3"
  },
  "language_info": {
   "codemirror_mode": {
    "name": "ipython",
    "version": 3
   },
   "file_extension": ".py",
   "mimetype": "text/x-python",
   "name": "python",
   "nbconvert_exporter": "python",
   "pygments_lexer": "ipython3",
   "version": "3.9.7"
  }
 },
 "nbformat": 4,
 "nbformat_minor": 5
}
