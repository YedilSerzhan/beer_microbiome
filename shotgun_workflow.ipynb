{
 "cells": [
  {
   "cell_type": "code",
   "execution_count": 1,
   "id": "5d8195d7",
   "metadata": {},
   "outputs": [],
   "source": [
    "from bioblend.galaxy import GalaxyInstance\n",
    "import os"
   ]
  },
  {
   "cell_type": "code",
   "execution_count": 2,
   "id": "0c3dce25",
   "metadata": {},
   "outputs": [
    {
     "name": "stdout",
     "output_type": "stream",
     "text": [
      "GalaxyInstance object for Galaxy at https://usegalaxy.eu\n"
     ]
    }
   ],
   "source": [
    "gi = GalaxyInstance(url='https://usegalaxy.eu', key=os.environ['my_galaxy_api'])\n",
    "\n",
    "print(gi)"
   ]
  },
  {
   "cell_type": "code",
   "execution_count": 3,
   "id": "5fcff38c",
   "metadata": {},
   "outputs": [
    {
     "data": {
      "text/plain": [
       "[{'model_class': 'History',\n",
       "  'id': 'ecfc8c06ceae22af',\n",
       "  'name': 'shotgun paired test run',\n",
       "  'deleted': False,\n",
       "  'purged': False,\n",
       "  'url': '/api/histories/ecfc8c06ceae22af',\n",
       "  'published': False,\n",
       "  'annotation': None,\n",
       "  'tags': [],\n",
       "  'update_time': '2023-01-24T17:43:51.334962'},\n",
       " {'model_class': 'History',\n",
       "  'id': 'f9fac8fec6c258e8',\n",
       "  'name': 'Unnamed history',\n",
       "  'deleted': False,\n",
       "  'purged': False,\n",
       "  'url': '/api/histories/f9fac8fec6c258e8',\n",
       "  'published': False,\n",
       "  'annotation': None,\n",
       "  'tags': [],\n",
       "  'update_time': '2023-01-08T19:21:43.756351'},\n",
       " {'model_class': 'History',\n",
       "  'id': '0124e50f643eb2b4',\n",
       "  'name': 'kraken paper',\n",
       "  'deleted': False,\n",
       "  'purged': False,\n",
       "  'url': '/api/histories/0124e50f643eb2b4',\n",
       "  'published': False,\n",
       "  'annotation': None,\n",
       "  'tags': [],\n",
       "  'update_time': '2023-01-24T14:20:25.570624'},\n",
       " {'model_class': 'History',\n",
       "  'id': 'a815f9b6bd4ea13a',\n",
       "  'name': 'beer tutorial',\n",
       "  'deleted': False,\n",
       "  'purged': False,\n",
       "  'url': '/api/histories/a815f9b6bd4ea13a',\n",
       "  'published': False,\n",
       "  'annotation': None,\n",
       "  'tags': [],\n",
       "  'update_time': '2023-01-04T09:59:38.233541'},\n",
       " {'model_class': 'History',\n",
       "  'id': '742c801dba864d5c',\n",
       "  'name': 'Hands-on-3_Assembly',\n",
       "  'deleted': False,\n",
       "  'purged': False,\n",
       "  'url': '/api/histories/742c801dba864d5c',\n",
       "  'published': False,\n",
       "  'annotation': 'Name: Yedil Serzhan\\nStudent ID: 5166365',\n",
       "  'tags': [],\n",
       "  'update_time': '2022-08-31T19:19:12.405972'},\n",
       " {'model_class': 'History',\n",
       "  'id': '058dae2d14893088',\n",
       "  'name': \"Copy of 'Hands-on_Mapping'\",\n",
       "  'deleted': False,\n",
       "  'purged': False,\n",
       "  'url': '/api/histories/058dae2d14893088',\n",
       "  'published': False,\n",
       "  'annotation': None,\n",
       "  'tags': [],\n",
       "  'update_time': '2021-12-06T09:51:21.613151'},\n",
       " {'model_class': 'History',\n",
       "  'id': '29276b67760b22a7',\n",
       "  'name': 'Hands-on_Mapping',\n",
       "  'deleted': False,\n",
       "  'purged': False,\n",
       "  'url': '/api/histories/29276b67760b22a7',\n",
       "  'published': False,\n",
       "  'annotation': 'Name: Yedil Serzhan\\nStudent ID: 5166365',\n",
       "  'tags': [],\n",
       "  'update_time': '2021-12-06T19:52:48.475406'},\n",
       " {'model_class': 'History',\n",
       "  'id': 'a9a2125645c3190a',\n",
       "  'name': 'hands-on2:QC',\n",
       "  'deleted': False,\n",
       "  'purged': False,\n",
       "  'url': '/api/histories/a9a2125645c3190a',\n",
       "  'published': False,\n",
       "  'annotation': 'Name: Yedil Serzhan\\nStudent ID: 5166365',\n",
       "  'tags': [],\n",
       "  'update_time': '2021-11-28T22:58:12.582014'},\n",
       " {'model_class': 'History',\n",
       "  'id': 'e74a0bc0a5db38ac',\n",
       "  'name': 'Next Analysis',\n",
       "  'deleted': False,\n",
       "  'purged': False,\n",
       "  'url': '/api/histories/e74a0bc0a5db38ac',\n",
       "  'published': False,\n",
       "  'annotation': 'Name: Yedil Serzhan\\nStudent ID: 5166365',\n",
       "  'tags': [],\n",
       "  'update_time': '2021-11-28T22:57:11.270695'},\n",
       " {'model_class': 'History',\n",
       "  'id': 'a6818e4dba38bc51',\n",
       "  'name': 'My Analysis',\n",
       "  'deleted': False,\n",
       "  'purged': False,\n",
       "  'url': '/api/histories/a6818e4dba38bc51',\n",
       "  'published': False,\n",
       "  'annotation': 'Name: Yedil Serzhan\\nStudent ID: 5166365',\n",
       "  'tags': [],\n",
       "  'update_time': '2021-11-28T22:56:37.130321'}]"
      ]
     },
     "execution_count": 3,
     "metadata": {},
     "output_type": "execute_result"
    }
   ],
   "source": [
    "gi.histories.get_histories()"
   ]
  },
  {
   "cell_type": "code",
   "execution_count": null,
   "id": "e07c8910",
   "metadata": {},
   "outputs": [],
   "source": []
  }
 ],
 "metadata": {
  "kernelspec": {
   "display_name": "Python 3 (ipykernel)",
   "language": "python",
   "name": "python3"
  },
  "language_info": {
   "codemirror_mode": {
    "name": "ipython",
    "version": 3
   },
   "file_extension": ".py",
   "mimetype": "text/x-python",
   "name": "python",
   "nbconvert_exporter": "python",
   "pygments_lexer": "ipython3",
   "version": "3.9.7"
  }
 },
 "nbformat": 4,
 "nbformat_minor": 5
}
