{
 "cells": [
  {
   "cell_type": "code",
   "execution_count": 1,
   "id": "5d8195d7",
   "metadata": {},
   "outputs": [],
   "source": [
    "from bioblend.galaxy import GalaxyInstance\n",
    "import os"
   ]
  },
  {
   "cell_type": "code",
   "execution_count": 2,
   "id": "0c3dce25",
   "metadata": {},
   "outputs": [
    {
     "name": "stdout",
     "output_type": "stream",
     "text": [
      "GalaxyInstance object for Galaxy at https://usegalaxy.eu/\n"
     ]
    }
   ],
   "source": [
    "server = 'https://usegalaxy.eu/'\n",
    "api_key = os.environ['my_galaxy_api']\n",
    "gi = GalaxyInstance(server, key=api_key)\n",
    "\n",
    "print(gi)"
   ]
  },
  {
   "cell_type": "code",
   "execution_count": 35,
   "id": "5fcff38c",
   "metadata": {},
   "outputs": [
    {
     "data": {
      "text/plain": [
       "[{'model_class': 'History',\n",
       "  'id': '06776fd001b3f03a',\n",
       "  'name': 'PRJNA390460',\n",
       "  'deleted': False,\n",
       "  'purged': False,\n",
       "  'url': '/api/histories/06776fd001b3f03a',\n",
       "  'published': False,\n",
       "  'annotation': None,\n",
       "  'tags': [],\n",
       "  'update_time': '2023-01-31T19:37:35.791108'},\n",
       " {'model_class': 'History',\n",
       "  'id': 'ee9cf18ea49d2fb1',\n",
       "  'name': 'qiime2 test',\n",
       "  'deleted': False,\n",
       "  'purged': False,\n",
       "  'url': '/api/histories/ee9cf18ea49d2fb1',\n",
       "  'published': False,\n",
       "  'annotation': None,\n",
       "  'tags': [],\n",
       "  'update_time': '2023-01-30T19:11:02.169097'},\n",
       " {'model_class': 'History',\n",
       "  'id': 'ecfc8c06ceae22af',\n",
       "  'name': 'shotgun paired test run',\n",
       "  'deleted': False,\n",
       "  'purged': False,\n",
       "  'url': '/api/histories/ecfc8c06ceae22af',\n",
       "  'published': False,\n",
       "  'annotation': None,\n",
       "  'tags': [],\n",
       "  'update_time': '2023-01-24T17:43:51.334962'}]"
      ]
     },
     "execution_count": 35,
     "metadata": {},
     "output_type": "execute_result"
    }
   ],
   "source": [
    "gi.histories.get_histories()"
   ]
  },
  {
   "cell_type": "code",
   "execution_count": 28,
   "id": "e07c8910",
   "metadata": {},
   "outputs": [
    {
     "data": {
      "text/plain": [
       "{'misc_info': 'uploaded fastqsanger.gz file',\n",
       " 'dataset_id': '4838ba20a6d86765ddf2b5f3ee9cd961',\n",
       " 'file_size': 4288747228,\n",
       " 'id': '4838ba20a6d86765e865eafb64b12ee6',\n",
       " 'uuid': '46e5d9bb-9e6e-45eb-a425-5110a06cc53e',\n",
       " 'display_apps': [],\n",
       " 'data_type': 'abc.FastqSangerGz',\n",
       " 'type': 'file',\n",
       " 'permissions': {'manage': ['a31b3c57dee55ce4'],\n",
       "  'access': ['a31b3c57dee55ce4']},\n",
       " 'peek': '@SRR14143424.1 1/1\\nCGTCACTGTGGAAGAAAGAATATTGTTGACGCCTCTCTGAAGCCCTGTCATAACAGAATCCAGCATTTTCTGAGGCTCTATCTCAAGGGAGTTCGCCCACTCGGAAATAGCAGAATCCTGTTTGAA\\n+\\nAA<AFJJJJJJJJJJJJJJJJFJJJJJFJJJJJ<JJFJJJJ7F7FFFAFJJJJFJFJJF7FJF<AF7AF<FJJJAA<FJJJFJJJJJJJFJ-A<JFJFJJJJJJ<JJJJJJJJJJJJFJJAJFJJJ\\n@SRR14143424.2 2/1\\n',\n",
       " 'extension': 'fastqsanger.gz',\n",
       " 'visible': False,\n",
       " 'deleted': False,\n",
       " 'misc_blurb': '4.0 GB',\n",
       " 'rerunnable': False,\n",
       " 'sources': [{'model_class': 'DatasetSource',\n",
       "   'id': 905842,\n",
       "   'source_uri': 'ftp://ftp.sra.ebi.ac.uk/vol1/fastq/SRR141/024/SRR14143424/SRR14143424_1.fastq.gz',\n",
       "   'extra_files_path': None,\n",
       "   'transform': None}],\n",
       " 'history_content_type': 'dataset',\n",
       " 'url': '/api/histories/ecfc8c06ceae22af/contents/4838ba20a6d86765e865eafb64b12ee6',\n",
       " 'state': 'ok',\n",
       " 'validated_state_message': None,\n",
       " 'creating_job': '11ac94870d0bb33acab20574e1ee482c',\n",
       " 'copied_from_ldda_id': None,\n",
       " 'genome_build': '?',\n",
       " 'validated_state': 'unknown',\n",
       " 'tags': [],\n",
       " 'resubmitted': False,\n",
       " 'hashes': [],\n",
       " 'meta_files': [],\n",
       " 'type_id': 'dataset-4838ba20a6d86765e865eafb64b12ee6',\n",
       " 'file_ext': 'fastqsanger.gz',\n",
       " 'accessible': True,\n",
       " 'purged': False,\n",
       " 'model_class': 'HistoryDatasetAssociation',\n",
       " 'file_name': '/data/dnb07/galaxy_db/files/4/6/e/dataset_46e5d9bb-9e6e-45eb-a425-5110a06cc53e.dat',\n",
       " 'hda_ldda': 'hda',\n",
       " 'update_time': '2023-01-24T16:13:45.179968',\n",
       " 'hid': 1,\n",
       " 'download_url': '/api/histories/ecfc8c06ceae22af/contents/4838ba20a6d86765e865eafb64b12ee6/display',\n",
       " 'history_id': 'ecfc8c06ceae22af',\n",
       " 'api_type': 'file',\n",
       " 'name': 'sample1_1.fastq.gz',\n",
       " 'annotation': None,\n",
       " 'create_time': '2023-01-24T15:10:02.887598',\n",
       " 'created_from_basename': None,\n",
       " 'display_types': [],\n",
       " 'metadata_dbkey': '?'}"
      ]
     },
     "execution_count": 28,
     "metadata": {},
     "output_type": "execute_result"
    }
   ],
   "source": [
    "# gi.histories.show_history('ecfc8c06ceae22af', contents=False)\n",
    "gi.datasets.show_dataset('4838ba20a6d86765e865eafb64b12ee6')"
   ]
  },
  {
   "cell_type": "code",
   "execution_count": null,
   "id": "76aa5e0b",
   "metadata": {},
   "outputs": [],
   "source": []
  },
  {
   "cell_type": "code",
   "execution_count": 5,
   "id": "793729c6",
   "metadata": {},
   "outputs": [],
   "source": [
    "# upload file locally\n",
    "# gi.tools.upload_file('test.txt', 'f3c2b0f3ecac9f02')\n",
    "\n",
    "# upload file using FTP when it's over 2 G\n",
    "# gi.tools.upload_from_ftp('test.txt', 'f3c2b0f3ecac9f02')"
   ]
  },
  {
   "cell_type": "code",
   "execution_count": 34,
   "id": "13b991e2",
   "metadata": {},
   "outputs": [
    {
     "data": {
      "text/plain": [
       "[{'model_class': 'StoredWorkflow',\n",
       "  'id': 'dde25e07f2db3f7c',\n",
       "  'name': 'shotgun workflow for a collection of paired inputs',\n",
       "  'create_time': '2023-01-09T22:04:20.055180',\n",
       "  'update_time': '2023-01-25T11:58:00.102993',\n",
       "  'published': False,\n",
       "  'importable': True,\n",
       "  'deleted': False,\n",
       "  'hidden': False,\n",
       "  'tags': [],\n",
       "  'latest_workflow_uuid': 'ca9938ac-491c-4bb1-952a-9ed020c63b58',\n",
       "  'annotations': [''],\n",
       "  'url': '*deprecated attribute, URL not filled in by server*',\n",
       "  'owner': 'yedil_s',\n",
       "  'source_metadata': None,\n",
       "  'number_of_steps': 11,\n",
       "  'show_in_tool_panel': False},\n",
       " {'model_class': 'StoredWorkflow',\n",
       "  'id': '92c6435c8c34b776',\n",
       "  'name': 'shotgun workflow for a collection of single ended inputs',\n",
       "  'create_time': '2023-01-22T14:22:15.635209',\n",
       "  'update_time': '2023-01-25T11:56:03.806581',\n",
       "  'published': False,\n",
       "  'importable': True,\n",
       "  'deleted': False,\n",
       "  'hidden': False,\n",
       "  'tags': [],\n",
       "  'latest_workflow_uuid': '3dd4c22f-2fe6-4903-8067-03ccc969b338',\n",
       "  'annotations': [''],\n",
       "  'url': '*deprecated attribute, URL not filled in by server*',\n",
       "  'owner': 'yedil_s',\n",
       "  'source_metadata': None,\n",
       "  'number_of_steps': 11,\n",
       "  'show_in_tool_panel': False}]"
      ]
     },
     "execution_count": 34,
     "metadata": {},
     "output_type": "execute_result"
    }
   ],
   "source": [
    "gi.workflows.get_workflows()"
   ]
  },
  {
   "cell_type": "code",
   "execution_count": 7,
   "id": "d3ba3bd1",
   "metadata": {},
   "outputs": [
    {
     "data": {
      "text/plain": [
       "{'0': {'label': 'Input Dataset Collection',\n",
       "  'value': '',\n",
       "  'uuid': 'f799a228-043d-4606-8df7-48cf04b37231'}}"
      ]
     },
     "execution_count": 7,
     "metadata": {},
     "output_type": "execute_result"
    }
   ],
   "source": [
    "wf_shotgun_paired = gi.workflows.show_workflow('dde25e07f2db3f7c')\n",
    "wf_shotgun_paired['inputs']"
   ]
  },
  {
   "cell_type": "code",
   "execution_count": 31,
   "id": "70d17023",
   "metadata": {},
   "outputs": [],
   "source": [
    "def upload_dataset(gi, dataset_links, history_id):\n",
    "    r = gi.tools.put_url(\n",
    "        content=dataset_links,\n",
    "        history_id=history_id,\n",
    "    )\n",
    "    print(r)\n",
    "    return r['outputs']\n",
    "\n",
    "def shotgun_main(gi, dataset):\n",
    "    for key, value in dataset.items():\n",
    "        print(f'creating history for {key}')\n",
    "        new_history = gi.histories.create_history(key)\n",
    "        dataset_links = '\\n'.join(value)\n",
    "        upload_result = upload_dataset(gi, value[0], new_history['id'])\n"
   ]
  },
  {
   "cell_type": "code",
   "execution_count": 32,
   "id": "1dd95e33",
   "metadata": {
    "scrolled": true
   },
   "outputs": [
    {
     "name": "stdout",
     "output_type": "stream",
     "text": [
      "creating history for PRJNA390460\n",
      "{'model_class': 'History', 'id': '540a186678e5fa84', 'name': 'PRJNA390460', 'deleted': False, 'purged': False, 'url': '/api/histories/540a186678e5fa84', 'published': False, 'annotation': None, 'tags': [], 'contents_url': '/api/histories/540a186678e5fa84/contents', 'size': 0, 'user_id': '2c4f4f872a603556', 'create_time': '2023-01-31T19:45:06.318161', 'update_time': '2023-01-31T19:45:06.318565', 'importable': False, 'slug': None, 'username_and_slug': None, 'genome_build': None, 'state': 'new', 'state_ids': {'new': [], 'upload': [], 'queued': [], 'running': [], 'ok': [], 'empty': [], 'error': [], 'paused': [], 'setting_metadata': [], 'failed_metadata': [], 'deferred': [], 'discarded': []}, 'state_details': {'new': 0, 'upload': 0, 'queued': 0, 'running': 0, 'ok': 0, 'empty': 0, 'error': 0, 'paused': 0, 'setting_metadata': 0, 'failed_metadata': 0, 'deferred': 0, 'discarded': 0}, 'hid_counter': 1, 'empty': True}\n",
      "540a186678e5fa84\n",
      "ftp://ftp.sra.ebi.ac.uk/vol1/fastq/SRR589/003/SRR5890763/SRR5890763_1.fastq.gz\n",
      "ftp://ftp.sra.ebi.ac.uk/vol1/fastq/SRR589/003/SRR5890763/SRR5890763_2.fastq.gz\n",
      "{'outputs': [{'id': '4838ba20a6d86765d4f109142861b926', 'hda_ldda': 'hda', 'uuid': 'd2d16cf8-8469-4c48-83b3-32c5e9c6c1e6', 'hid': 1, 'file_ext': 'auto', 'peek': None, 'model_class': 'HistoryDatasetAssociation', 'name': 'ftp://ftp.sra.ebi.ac.uk/vol1/fastq/SRR589/003/SRR5890763/SRR5890763_1.fastq.gz', 'deleted': False, 'purged': False, 'visible': True, 'state': 'queued', 'history_content_type': 'dataset', 'file_size': 0, 'create_time': '2023-01-31T19:45:06.563024', 'update_time': '2023-01-31T19:45:06.584144', 'data_type': 'galaxy.datatypes.data.Data', 'genome_build': '?', 'validated_state': 'unknown', 'validated_state_message': None, 'misc_info': None, 'misc_blurb': None, 'tags': [], 'history_id': '540a186678e5fa84', 'metadata_dbkey': '?', 'output_name': 'output0'}], 'output_collections': [], 'jobs': [{'model_class': 'Job', 'id': '11ac94870d0bb33a24115a566a13d80d', 'state': 'new', 'exit_code': None, 'update_time': '2023-01-31T19:45:06.616000', 'create_time': '2023-01-31T19:45:06.602700', 'galaxy_version': '22.05', 'tool_id': 'upload1', 'history_id': '540a186678e5fa84'}], 'implicit_collections': [], 'produces_entry_points': False}\n"
     ]
    }
   ],
   "source": [
    "dataset = {'PRJNA390460': ['ftp://ftp.sra.ebi.ac.uk/vol1/fastq/SRR589/003/SRR5890763/SRR5890763_1.fastq.gz', 'ftp://ftp.sra.ebi.ac.uk/vol1/fastq/SRR589/003/SRR5890763/SRR5890763_2.fastq.gz']}\n",
    "\n",
    "shotgun_main(gi, dataset)\n"
   ]
  },
  {
   "cell_type": "code",
   "execution_count": 33,
   "id": "5095f5a6",
   "metadata": {},
   "outputs": [
    {
     "data": {
      "text/plain": [
       "{'model_class': 'History',\n",
       " 'id': '06776fd001b3f03a',\n",
       " 'name': 'PRJNA390460',\n",
       " 'deleted': False,\n",
       " 'purged': False,\n",
       " 'url': '/api/histories/06776fd001b3f03a',\n",
       " 'published': False,\n",
       " 'annotation': None,\n",
       " 'tags': [],\n",
       " 'contents_url': '/api/histories/06776fd001b3f03a/contents',\n",
       " 'size': 0,\n",
       " 'user_id': '2c4f4f872a603556',\n",
       " 'create_time': '2023-01-31T19:34:11.280646',\n",
       " 'update_time': '2023-01-31T19:37:35.791108',\n",
       " 'importable': False,\n",
       " 'slug': None,\n",
       " 'username_and_slug': None,\n",
       " 'genome_build': None,\n",
       " 'state': 'ok',\n",
       " 'state_ids': {'new': [],\n",
       "  'upload': [],\n",
       "  'queued': [],\n",
       "  'running': [],\n",
       "  'ok': ['4838ba20a6d867654af7f45b9f74379c',\n",
       "   '4838ba20a6d867658cf2c6e016fb2768'],\n",
       "  'empty': [],\n",
       "  'error': [],\n",
       "  'paused': [],\n",
       "  'setting_metadata': [],\n",
       "  'failed_metadata': [],\n",
       "  'deferred': [],\n",
       "  'discarded': []},\n",
       " 'state_details': {'new': 0,\n",
       "  'upload': 0,\n",
       "  'queued': 0,\n",
       "  'running': 0,\n",
       "  'ok': 2,\n",
       "  'empty': 0,\n",
       "  'error': 0,\n",
       "  'paused': 0,\n",
       "  'setting_metadata': 0,\n",
       "  'failed_metadata': 0,\n",
       "  'deferred': 0,\n",
       "  'discarded': 0},\n",
       " 'hid_counter': 3,\n",
       " 'empty': False}"
      ]
     },
     "execution_count": 33,
     "metadata": {},
     "output_type": "execute_result"
    }
   ],
   "source": [
    "gi.histories.show_history('06776fd001b3f03a', contents=False)"
   ]
  }
 ],
 "metadata": {
  "kernelspec": {
   "display_name": "Python 3 (ipykernel)",
   "language": "python",
   "name": "python3"
  },
  "language_info": {
   "codemirror_mode": {
    "name": "ipython",
    "version": 3
   },
   "file_extension": ".py",
   "mimetype": "text/x-python",
   "name": "python",
   "nbconvert_exporter": "python",
   "pygments_lexer": "ipython3",
   "version": "3.9.7"
  }
 },
 "nbformat": 4,
 "nbformat_minor": 5
}
