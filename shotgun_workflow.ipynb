{
 "cells": [
  {
   "cell_type": "code",
   "execution_count": 1,
   "id": "5d8195d7",
   "metadata": {},
   "outputs": [],
   "source": [
    "from bioblend.galaxy import GalaxyInstance\n",
    "import os"
   ]
  },
  {
   "cell_type": "code",
   "execution_count": 2,
   "id": "0c3dce25",
   "metadata": {},
   "outputs": [
    {
     "name": "stdout",
     "output_type": "stream",
     "text": [
      "GalaxyInstance object for Galaxy at https://usegalaxy.eu/\n"
     ]
    }
   ],
   "source": [
    "server = 'https://usegalaxy.eu/'\n",
    "api_key = os.environ['my_galaxy_api']\n",
    "gi = GalaxyInstance(server, key=api_key)\n",
    "\n",
    "print(gi)"
   ]
  },
  {
   "cell_type": "code",
   "execution_count": 3,
   "id": "5fcff38c",
   "metadata": {},
   "outputs": [
    {
     "data": {
      "text/plain": [
       "[{'model_class': 'History',\n",
       "  'id': 'ecfc8c06ceae22af',\n",
       "  'name': 'shotgun paired test run',\n",
       "  'deleted': False,\n",
       "  'purged': False,\n",
       "  'url': '/api/histories/ecfc8c06ceae22af',\n",
       "  'published': False,\n",
       "  'annotation': None,\n",
       "  'tags': [],\n",
       "  'update_time': '2023-01-24T17:43:51.334962'}]"
      ]
     },
     "execution_count": 3,
     "metadata": {},
     "output_type": "execute_result"
    }
   ],
   "source": [
    "gi.histories.get_histories()"
   ]
  },
  {
   "cell_type": "code",
   "execution_count": 4,
   "id": "e07c8910",
   "metadata": {},
   "outputs": [
    {
     "data": {
      "text/plain": [
       "{'model_class': 'History',\n",
       " 'id': 'ecfc8c06ceae22af',\n",
       " 'name': 'shotgun paired test run',\n",
       " 'deleted': False,\n",
       " 'purged': False,\n",
       " 'url': '/api/histories/ecfc8c06ceae22af',\n",
       " 'published': False,\n",
       " 'annotation': None,\n",
       " 'tags': [],\n",
       " 'contents_url': '/api/histories/ecfc8c06ceae22af/contents',\n",
       " 'size': 17191401459,\n",
       " 'user_id': '2c4f4f872a603556',\n",
       " 'create_time': '2023-01-24T14:20:39.651373',\n",
       " 'update_time': '2023-01-24T17:43:51.334962',\n",
       " 'importable': False,\n",
       " 'slug': None,\n",
       " 'username_and_slug': None,\n",
       " 'genome_build': '?',\n",
       " 'state': 'ok',\n",
       " 'state_ids': {'new': [],\n",
       "  'upload': [],\n",
       "  'queued': [],\n",
       "  'running': [],\n",
       "  'ok': ['4838ba20a6d86765e865eafb64b12ee6',\n",
       "   '4838ba20a6d86765ba3b11452bb4dcbf',\n",
       "   '4838ba20a6d86765685f068af6b2652b',\n",
       "   '4838ba20a6d86765a30b471eeaf26587',\n",
       "   '4838ba20a6d867650d448642ccdc3926',\n",
       "   '4838ba20a6d867651496ff29e96512de',\n",
       "   '4838ba20a6d86765c0cbedd181b1583a',\n",
       "   '4838ba20a6d86765759f770e3a6c524d',\n",
       "   '4838ba20a6d867659e320d4fab422d2e',\n",
       "   '4838ba20a6d867659f39795a93c8619b',\n",
       "   '4838ba20a6d867658ca99301ab640489',\n",
       "   '4838ba20a6d8676525bde6ef8204cd6f',\n",
       "   '4838ba20a6d86765b20870c02ce566fc',\n",
       "   '4838ba20a6d86765b9f05c8f3ffdfe83',\n",
       "   '4838ba20a6d86765a598c2148f022cf0',\n",
       "   '4838ba20a6d86765c959c2eae1942ed4',\n",
       "   '4838ba20a6d867658a16e3e7c909370c',\n",
       "   '4838ba20a6d86765d321fe9a7d53ce6a',\n",
       "   '4838ba20a6d867650f7ddf7adf9c248c',\n",
       "   '4838ba20a6d867657a11229d091ec59e',\n",
       "   '4838ba20a6d86765735ce99dc6574769',\n",
       "   '4838ba20a6d86765f1dd61fdba1fb5d8',\n",
       "   '4838ba20a6d86765fc3336374e4ef6e3',\n",
       "   '4838ba20a6d8676555a62accffdb699d',\n",
       "   '4838ba20a6d867651ba8676ce13ca222',\n",
       "   '4838ba20a6d86765040cfed3ea5cc9c7',\n",
       "   '4838ba20a6d86765e1e265343e4ec7b9',\n",
       "   '4838ba20a6d86765eea3ceafee8f1525',\n",
       "   '4838ba20a6d86765941ad74e1cc5185b',\n",
       "   '4838ba20a6d867659cf48bb380b1aff5',\n",
       "   '4838ba20a6d86765ef6326676d7a124e',\n",
       "   '4838ba20a6d86765107ca41c50f8606b',\n",
       "   '4838ba20a6d86765f59795bf5922c418',\n",
       "   '4838ba20a6d86765065e2bcd4d5c1d92',\n",
       "   '4838ba20a6d86765d1dd24637b22be51'],\n",
       "  'empty': [],\n",
       "  'error': ['4838ba20a6d867656b3e8229ddb456c7'],\n",
       "  'paused': [],\n",
       "  'setting_metadata': [],\n",
       "  'failed_metadata': [],\n",
       "  'deferred': [],\n",
       "  'discarded': []},\n",
       " 'state_details': {'new': 0,\n",
       "  'upload': 0,\n",
       "  'queued': 0,\n",
       "  'running': 0,\n",
       "  'ok': 35,\n",
       "  'empty': 0,\n",
       "  'error': 0,\n",
       "  'paused': 0,\n",
       "  'setting_metadata': 0,\n",
       "  'failed_metadata': 0,\n",
       "  'deferred': 0,\n",
       "  'discarded': 0},\n",
       " 'empty': False,\n",
       " 'hid_counter': 47}"
      ]
     },
     "execution_count": 4,
     "metadata": {},
     "output_type": "execute_result"
    }
   ],
   "source": [
    "gi.histories.show_history('ecfc8c06ceae22af', contents=False)"
   ]
  },
  {
   "cell_type": "code",
   "execution_count": 5,
   "id": "76aa5e0b",
   "metadata": {},
   "outputs": [
    {
     "data": {
      "text/plain": [
       "{'display_types': [],\n",
       " 'created_from_basename': None,\n",
       " 'hashes': [],\n",
       " 'meta_files': [],\n",
       " 'sources': [{'model_class': 'DatasetSource',\n",
       "   'id': 905842,\n",
       "   'source_uri': 'ftp://ftp.sra.ebi.ac.uk/vol1/fastq/SRR141/024/SRR14143424/SRR14143424_1.fastq.gz',\n",
       "   'extra_files_path': None,\n",
       "   'transform': None}],\n",
       " 'id': '4838ba20a6d86765e865eafb64b12ee6',\n",
       " 'validated_state_message': None,\n",
       " 'validated_state': 'unknown',\n",
       " 'api_type': 'file',\n",
       " 'uuid': '46e5d9bb-9e6e-45eb-a425-5110a06cc53e',\n",
       " 'hda_ldda': 'hda',\n",
       " 'download_url': '/api/histories/ecfc8c06ceae22af/contents/4838ba20a6d86765e865eafb64b12ee6/display',\n",
       " 'rerunnable': False,\n",
       " 'visible': False,\n",
       " 'annotation': None,\n",
       " 'state': 'ok',\n",
       " 'file_name': '/data/dnb07/galaxy_db/files/4/6/e/dataset_46e5d9bb-9e6e-45eb-a425-5110a06cc53e.dat',\n",
       " 'hid': 1,\n",
       " 'file_size': 4288747228,\n",
       " 'purged': False,\n",
       " 'misc_info': 'uploaded fastqsanger.gz file',\n",
       " 'misc_blurb': '4.0 GB',\n",
       " 'history_content_type': 'dataset',\n",
       " 'accessible': True,\n",
       " 'file_ext': 'fastqsanger.gz',\n",
       " 'permissions': {'manage': ['a31b3c57dee55ce4'],\n",
       "  'access': ['a31b3c57dee55ce4']},\n",
       " 'genome_build': '?',\n",
       " 'model_class': 'HistoryDatasetAssociation',\n",
       " 'data_type': 'abc.FastqSangerGz',\n",
       " 'tags': [],\n",
       " 'copied_from_ldda_id': None,\n",
       " 'name': 'sample1_1.fastq.gz',\n",
       " 'creating_job': '11ac94870d0bb33acab20574e1ee482c',\n",
       " 'create_time': '2023-01-24T15:10:02.887598',\n",
       " 'update_time': '2023-01-24T16:13:45.179968',\n",
       " 'url': '/api/histories/ecfc8c06ceae22af/contents/4838ba20a6d86765e865eafb64b12ee6',\n",
       " 'history_id': 'ecfc8c06ceae22af',\n",
       " 'resubmitted': False,\n",
       " 'type_id': 'dataset-4838ba20a6d86765e865eafb64b12ee6',\n",
       " 'type': 'file',\n",
       " 'extension': 'fastqsanger.gz',\n",
       " 'deleted': False,\n",
       " 'peek': '@SRR14143424.1 1/1\\nCGTCACTGTGGAAGAAAGAATATTGTTGACGCCTCTCTGAAGCCCTGTCATAACAGAATCCAGCATTTTCTGAGGCTCTATCTCAAGGGAGTTCGCCCACTCGGAAATAGCAGAATCCTGTTTGAA\\n+\\nAA<AFJJJJJJJJJJJJJJJJFJJJJJFJJJJJ<JJFJJJJ7F7FFFAFJJJJFJFJJF7FJF<AF7AF<FJJJAA<FJJJFJJJJJJJFJ-A<JFJFJJJJJJ<JJJJJJJJJJJJFJJAJFJJJ\\n@SRR14143424.2 2/1\\n',\n",
       " 'display_apps': [],\n",
       " 'dataset_id': '4838ba20a6d86765ddf2b5f3ee9cd961',\n",
       " 'metadata_dbkey': '?'}"
      ]
     },
     "execution_count": 5,
     "metadata": {},
     "output_type": "execute_result"
    }
   ],
   "source": [
    "gi.datasets.show_dataset('4838ba20a6d86765e865eafb64b12ee6')"
   ]
  },
  {
   "cell_type": "code",
   "execution_count": 6,
   "id": "793729c6",
   "metadata": {},
   "outputs": [],
   "source": [
    "# upload file locally\n",
    "# gi.tools.upload_file('test.txt', 'f3c2b0f3ecac9f02')\n",
    "\n",
    "# upload file using FTP when it's over 2 G\n",
    "# gi.tools.upload_from_ftp('test.txt', 'f3c2b0f3ecac9f02')"
   ]
  },
  {
   "cell_type": "code",
   "execution_count": 7,
   "id": "13b991e2",
   "metadata": {},
   "outputs": [
    {
     "data": {
      "text/plain": [
       "[{'model_class': 'StoredWorkflow',\n",
       "  'id': 'dde25e07f2db3f7c',\n",
       "  'name': 'shotgun workflow for a collection of paired inputs',\n",
       "  'create_time': '2023-01-09T22:04:20.055180',\n",
       "  'update_time': '2023-01-25T11:58:00.102993',\n",
       "  'published': False,\n",
       "  'importable': True,\n",
       "  'deleted': False,\n",
       "  'hidden': False,\n",
       "  'tags': [],\n",
       "  'latest_workflow_uuid': 'ca9938ac-491c-4bb1-952a-9ed020c63b58',\n",
       "  'annotations': [''],\n",
       "  'url': '*deprecated attribute, URL not filled in by server*',\n",
       "  'owner': 'yedil_s',\n",
       "  'source_metadata': None,\n",
       "  'number_of_steps': 11,\n",
       "  'show_in_tool_panel': False},\n",
       " {'model_class': 'StoredWorkflow',\n",
       "  'id': '92c6435c8c34b776',\n",
       "  'name': 'shotgun workflow for a collection of single ended inputs',\n",
       "  'create_time': '2023-01-22T14:22:15.635209',\n",
       "  'update_time': '2023-01-25T11:56:03.806581',\n",
       "  'published': False,\n",
       "  'importable': True,\n",
       "  'deleted': False,\n",
       "  'hidden': False,\n",
       "  'tags': [],\n",
       "  'latest_workflow_uuid': '3dd4c22f-2fe6-4903-8067-03ccc969b338',\n",
       "  'annotations': [''],\n",
       "  'url': '*deprecated attribute, URL not filled in by server*',\n",
       "  'owner': 'yedil_s',\n",
       "  'source_metadata': None,\n",
       "  'number_of_steps': 11,\n",
       "  'show_in_tool_panel': False}]"
      ]
     },
     "execution_count": 7,
     "metadata": {},
     "output_type": "execute_result"
    }
   ],
   "source": [
    "gi.workflows.get_workflows()"
   ]
  },
  {
   "cell_type": "code",
   "execution_count": 8,
   "id": "d3ba3bd1",
   "metadata": {},
   "outputs": [
    {
     "data": {
      "text/plain": [
       "{'0': {'label': 'Input Dataset Collection',\n",
       "  'value': '',\n",
       "  'uuid': 'f799a228-043d-4606-8df7-48cf04b37231'}}"
      ]
     },
     "execution_count": 8,
     "metadata": {},
     "output_type": "execute_result"
    }
   ],
   "source": [
    "wf_shotgun_paired = gi.workflows.show_workflow('dde25e07f2db3f7c')\n",
    "wf_shotgun_paired['inputs']"
   ]
  }
 ],
 "metadata": {
  "kernelspec": {
   "display_name": "Python 3 (ipykernel)",
   "language": "python",
   "name": "python3"
  },
  "language_info": {
   "codemirror_mode": {
    "name": "ipython",
    "version": 3
   },
   "file_extension": ".py",
   "mimetype": "text/x-python",
   "name": "python",
   "nbconvert_exporter": "python",
   "pygments_lexer": "ipython3",
   "version": "3.9.7"
  }
 },
 "nbformat": 4,
 "nbformat_minor": 5
}
