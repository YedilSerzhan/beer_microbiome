{
 "cells": [
  {
   "cell_type": "code",
   "execution_count": 10,
   "id": "c7f01839",
   "metadata": {},
   "outputs": [
    {
     "name": "stdout",
     "output_type": "stream",
     "text": [
      "0.05\n"
     ]
    },
    {
     "data": {
      "text/plain": [
       "(ShapiroResult(statistic=0.8911896347999573, pvalue=0.3244682252407074),\n",
       " ShapiroResult(statistic=0.8667157292366028, pvalue=0.21342453360557556),\n",
       " ShapiroResult(statistic=0.8652958273887634, pvalue=0.20808885991573334))"
      ]
     },
     "execution_count": 10,
     "metadata": {},
     "output_type": "execute_result"
    }
   ],
   "source": [
    "from scipy.stats import shapiro\n",
    "\n",
    "# Data for Chao1, Shannon, and Simpson measures (Original and Re-analysis)\n",
    "chao1_original = [48, 67.5, 98.6, 70.5, 90.2, 117.2]\n",
    "chao1_reanalysis = [42, 61, 94, 65, 89, 104]\n",
    "shannon_original = [2.07, 2.45, 2.53, 1.88, 2.16, 3.14]\n",
    "shannon_reanalysis = [2.50, 2.94, 3.31, 3.46, 2.71, 4.16]\n",
    "simpson_original = [0.83, 0.87, 0.86, 0.72, 0.77, 0.92]\n",
    "simpson_reanalysis = [0.76, 0.80, 0.82, 0.82, 0.65, 0.89]\n",
    "\n",
    "# Differences between paired observations\n",
    "diff_chao1 = [o - r for o, r in zip(chao1_original, chao1_reanalysis)]\n",
    "diff_shannon = [o - r for o, r in zip(shannon_original, shannon_reanalysis)]\n",
    "diff_simpson = [o - r for o, r in zip(simpson_original, simpson_reanalysis)]\n",
    "\n",
    "# Shapiro-Wilk test for normality\n",
    "shapiro_chao1 = shapiro(diff_chao1)\n",
    "shapiro_shannon = shapiro(diff_shannon)\n",
    "shapiro_simpson = shapiro(diff_simpson)\n",
    "\n",
    "print(0.05)\n",
    "\n",
    "shapiro_chao1, shapiro_shannon, shapiro_simpson\n",
    "\n"
   ]
  },
  {
   "cell_type": "code",
   "execution_count": 2,
   "id": "8fca7742",
   "metadata": {},
   "outputs": [
    {
     "data": {
      "text/plain": [
       "(TtestResult(statistic=3.844832916010616, pvalue=0.01206427941392628, df=5),\n",
       " TtestResult(statistic=-4.536992108267604, pvalue=0.006185714676929359, df=5),\n",
       " TtestResult(statistic=1.2573751347659914, pvalue=0.2641501551547413, df=5))"
      ]
     },
     "execution_count": 2,
     "metadata": {},
     "output_type": "execute_result"
    }
   ],
   "source": [
    "from scipy.stats import ttest_rel\n",
    "\n",
    "# Paired t-test for Chao1, Shannon, and Simpson measures\n",
    "ttest_chao1 = ttest_rel(chao1_original, chao1_reanalysis)\n",
    "ttest_shannon = ttest_rel(shannon_original, shannon_reanalysis)\n",
    "ttest_simpson = ttest_rel(simpson_original, simpson_reanalysis)\n",
    "\n",
    "ttest_chao1, ttest_shannon, ttest_simpson\n"
   ]
  },
  {
   "cell_type": "code",
   "execution_count": 14,
   "id": "aba4b7d5",
   "metadata": {},
   "outputs": [
    {
     "data": {
      "text/plain": [
       "(ShapiroResult(statistic=0.9250308871269226, pvalue=0.5423102974891663),\n",
       " ShapiroResult(statistic=0.8816209435462952, pvalue=0.2765839099884033),\n",
       " ShapiroResult(statistic=0.49609440565109253, pvalue=2.0729225070681423e-05))"
      ]
     },
     "execution_count": 14,
     "metadata": {},
     "output_type": "execute_result"
    }
   ],
   "source": [
    "# Chao1 metric values for original and re-analysis\n",
    "chao1_original = [10, 10, 18, 9, 17, 10]\n",
    "chao1_reanalysis = [13, 13, 31, 19, 24, 11]\n",
    "\n",
    "# Shannon metric values for original and re-analysis\n",
    "shannon_original = [1.45, 1.86, 1.88, 1.72, 1.96, 1.75]\n",
    "shannon_reanalysis = [1.73, 2.45, 2.57, 2.27, 2.69, 2.30]\n",
    "\n",
    "# Simpson metric values for original and re-analysis\n",
    "simpson_original = [0.74, 0.82, 0.81, 0.80, 0.83, 0.81]\n",
    "simpson_reanalysis = [0.66, 0.78, 0.77, 0.76, 0.79, 0.77]\n",
    "\n",
    "# Calculating the differences between original and re-analysis for Shannon and Simpson\n",
    "chao1_differences = [re - orig for orig, re in zip(chao1_original, chao1_reanalysis)]\n",
    "shannon_differences = [re - orig for orig, re in zip(shannon_original, shannon_reanalysis)]\n",
    "simpson_differences = [re - orig for orig, re in zip(simpson_original, simpson_reanalysis)]\n",
    "\n",
    "# Performing the Shapiro-Wilk test to check for normality for Shannon and Simpson\n",
    "shapiro_test_chao1 = shapiro(chao1_differences)\n",
    "shapiro_test_shannon = shapiro(shannon_differences)\n",
    "shapiro_test_simpson = shapiro(simpson_differences)\n",
    "\n",
    "shapiro_test_chao1, shapiro_test_shannon, shapiro_test_simpson"
   ]
  },
  {
   "cell_type": "code",
   "execution_count": 13,
   "id": "06baff89",
   "metadata": {},
   "outputs": [
    {
     "data": {
      "text/plain": [
       "(TtestResult(statistic=-3.237651768483805, pvalue=0.023009218857779033, df=5),\n",
       " TtestResult(statistic=-8.747695318878552, pvalue=0.00032349857608010487, df=5),\n",
       " WilcoxonResult(statistic=0.0, pvalue=0.03125))"
      ]
     },
     "execution_count": 13,
     "metadata": {},
     "output_type": "execute_result"
    }
   ],
   "source": [
    "# Importing required libraries for t-test and Wilcoxon signed-rank test\n",
    "from scipy.stats import ttest_rel, wilcoxon\n",
    "\n",
    "# Performing paired t-test for Chao1 and Shannon\n",
    "t_test_chao1 = ttest_rel(chao1_original, chao1_reanalysis)\n",
    "t_test_shannon = ttest_rel(shannon_original, shannon_reanalysis)\n",
    "\n",
    "# Performing Wilcoxon signed-rank test for Simpson\n",
    "wilcoxon_test_simpson = wilcoxon(simpson_original, simpson_reanalysis)\n",
    "\n",
    "t_test_chao1, t_test_shannon, wilcoxon_test_simpson"
   ]
  },
  {
   "cell_type": "code",
   "execution_count": null,
   "id": "61a59ea9",
   "metadata": {},
   "outputs": [],
   "source": [
    "# Shapiro-Wilk test\n",
    "# Paired t-test\n",
    "# Wilcoxon Signed-Rank Test"
   ]
  }
 ],
 "metadata": {
  "kernelspec": {
   "display_name": "Python 3 (ipykernel)",
   "language": "python",
   "name": "python3"
  },
  "language_info": {
   "codemirror_mode": {
    "name": "ipython",
    "version": 3
   },
   "file_extension": ".py",
   "mimetype": "text/x-python",
   "name": "python",
   "nbconvert_exporter": "python",
   "pygments_lexer": "ipython3",
   "version": "3.9.7"
  }
 },
 "nbformat": 4,
 "nbformat_minor": 5
}
